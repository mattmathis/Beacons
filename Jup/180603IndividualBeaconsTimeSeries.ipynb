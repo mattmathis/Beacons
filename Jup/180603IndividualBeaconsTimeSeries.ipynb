{
 "cells": [
  {
   "cell_type": "markdown",
   "metadata": {},
   "source": [
    "# Tools for inspecting individual beacons\n",
    "\n",
    "See the README.md for setup.\n",
    "\n",
    "NB: This notebook is unreliable unless cells are run one at a time."
   ]
  },
  {
   "cell_type": "code",
   "execution_count": 1,
   "metadata": {},
   "outputs": [
    {
     "name": "stdout",
     "output_type": "stream",
     "text": [
      "Done\n"
     ]
    }
   ],
   "source": [
    "import os\n",
    "import math\n",
    "import numpy as np\n",
    "import pandas as pd\n",
    "import matplotlib.dates as dates\n",
    "import matplotlib.pyplot as plt\n",
    "import matplotlib.ticker\n",
    "import datetime\n",
    "import collections\n",
    "import pickle\n",
    "# Depends on: pip install --upgrade google-cloud-bigquery\n",
    "from google.cloud import bigquery\n",
    "\n",
    "# Some matplotlib features are version dependent.\n",
    "assert(matplotlib.__version__ >= '2.1.2')\n",
    "print \"Done\""
   ]
  },
  {
   "cell_type": "markdown",
   "metadata": {},
   "source": [
    "# Global flags\n",
    "\n",
    "Invoke cell individually or reorder them to change defaults"
   ]
  },
  {
   "cell_type": "code",
   "execution_count": 2,
   "metadata": {},
   "outputs": [],
   "source": [
    "EndDate = '2018-05-13'\n",
    "project = 'mlab-sandbox'\n",
    "dataset_id = 'mattmathis'"
   ]
  },
  {
   "cell_type": "code",
   "execution_count": 3,
   "metadata": {},
   "outputs": [],
   "source": [
    "# Force queries\n",
    "DoQueries=True"
   ]
  },
  {
   "cell_type": "code",
   "execution_count": 4,
   "metadata": {},
   "outputs": [],
   "source": [
    "# Enable interactive figures that pan and zoom\n",
    "interactive = True"
   ]
  },
  {
   "cell_type": "code",
   "execution_count": 5,
   "metadata": {},
   "outputs": [],
   "source": [
    "# Enables figures to load inline in the browser and saved (github etc).\n",
    "interactive = False"
   ]
  },
  {
   "cell_type": "code",
   "execution_count": 6,
   "metadata": {},
   "outputs": [],
   "source": [
    "# Disable plots for the paper\n",
    "DoPaper = False"
   ]
  },
  {
   "cell_type": "code",
   "execution_count": 7,
   "metadata": {},
   "outputs": [
    {
     "name": "stdout",
     "output_type": "stream",
     "text": [
      "default inline\n"
     ]
    }
   ],
   "source": [
    "def setupmatplotlib(force=None):\n",
    "    global interactive\n",
    "    if force == 'inline':\n",
    "        %matplotlib inline\n",
    "        return\n",
    "    elif force == 'interactive':\n",
    "        %matplotlib\n",
    "        return\n",
    "    elif force is not None:\n",
    "        print 'Unknown option, using default'\n",
    "    if interactive:\n",
    "        print 'default interactive'\n",
    "        %matplotlib\n",
    "        return\n",
    "    else:\n",
    "        print 'default inline'\n",
    "        %matplotlib inline\n",
    "        return\n",
    "setupmatplotlib()"
   ]
  },
  {
   "cell_type": "code",
   "execution_count": 8,
   "metadata": {},
   "outputs": [
    {
     "name": "stdout",
     "output_type": "stream",
     "text": [
      "Done\n"
     ]
    }
   ],
   "source": [
    "# BigQuery interface\n",
    "def expand_query(query, **kwargs):\n",
    "    \"\"\"expand_query: expands nested {parameter} substitutions.\n",
    "    Stashes forensic output in globals.\n",
    "    \"\"\"\n",
    "    global DebugQuery # For pasting into BQ, after the fact\n",
    "    global NumberedQuery # For grocking BQ error line numbers.\n",
    "    global DefaultArgs # To ignore some \n",
    "\n",
    "    # Only allow argument substitution 4 levels deep, because\n",
    "    # accidental infinite recursion risks crashing the notebook.\n",
    "    args = DefaultArgs.copy()\n",
    "    args.update(kwargs)\n",
    "    query=query.format(**args)\n",
    "    query=query.format(**args)\n",
    "    query=query.format(**args)\n",
    "    query=query.format(**args)\n",
    "    if '{' in query:\n",
    "        raise \"Unexpanded substitutions\"\n",
    "    \n",
    "    # Leave crumbs incase we need a postmortem\n",
    "    DebugQuery = query\n",
    "    NumberedQuery = \"\"\n",
    "    for i, l in enumerate(query.split('\\n')):\n",
    "          NumberedQuery += \"%3d %s\\n\"%(i, l)\n",
    "\n",
    "    return query\n",
    "\n",
    "def run_query(query, project=project, otherindex=None, timeindex='partition_date', **kwargs):\n",
    "    \"\"\" run_query\n",
    "        Accepts nested {parameter} substitutions.\n",
    "        \n",
    "        Stashes forensic output in globals.\n",
    "    \"\"\"\n",
    "    global NumberedQuery\n",
    "    query=expand_query(query,  **kwargs)\n",
    "\n",
    "    # do the work\n",
    "    client = bigquery.Client(project=project)\n",
    "    job = client.query(query)  # All errors are delayed\n",
    "\n",
    "    # Marshal the results, catching async errors\n",
    "    try:\n",
    "        results = collections.defaultdict(list)\n",
    "        for row in job.result(timeout=300):\n",
    "            for key in row.keys():\n",
    "                results[key].append(row.get(key)) \n",
    "    except:\n",
    "        print NumberedQuery\n",
    "        raise\n",
    "\n",
    "    if otherindex:\n",
    "        return pd.DataFrame(results, index=results[timeined])\n",
    "    if timeindex:\n",
    "        return pd.DataFrame(results, index=pd.DatetimeIndex(results[timeindex]))\n",
    "    # set timeindex=None to force a raw DataFrame\n",
    "    return pd.DataFrame(results)\n",
    "\n",
    "def write_query_table(query, otable,\n",
    "                      project=project,\n",
    "                      dataset_id=dataset_id,\n",
    "                      **kwargs):\n",
    "    \"\"\" write_query_table\n",
    "        Accepts nested {parameter} substitutions.\n",
    "        \n",
    "        Stashes forensic output in globals.\n",
    "    \"\"\"\n",
    "    global NumberedQuery\n",
    "    query=expand_query(query,  **kwargs)\n",
    "\n",
    "    # do the work\n",
    "    client = bigquery.Client(project=project)\n",
    "    job_config = bigquery.QueryJobConfig()\n",
    "    table_ref = client.dataset(dataset_id).table(otable)\n",
    "    job_config.destination = table_ref\n",
    "    job_config.write_disposition = bigquery.WriteDisposition.WRITE_TRUNCATE\n",
    "    job = client.query(query, location='US', job_config=job_config)\n",
    "\n",
    "    # Marshal the results, catching async errors\n",
    "    try:\n",
    "        res = job.result()  # Get the first row to make sure it starts\n",
    "        while not job.done():\n",
    "            print 'tick'\n",
    "            time.sleep(5)\n",
    "        assert job.state == 'DONE'\n",
    "    except:\n",
    "        print \"Query Errored\"\n",
    "        print NumberedQuery\n",
    "        raise\n",
    "    print \"Query completed\"\n",
    "    return\n",
    "\n",
    "# test code\n",
    "if False:\n",
    "    testQ=\"\"\"\n",
    "    SELECT *\n",
    "    FROM `{dateset_id}.master_annotations`\n",
    "    \"\"\"\n",
    "    write_query_table(testQ, otable='test_results2')\n",
    "\n",
    "print \"Done\""
   ]
  },
  {
   "cell_type": "code",
   "execution_count": 9,
   "metadata": {},
   "outputs": [
    {
     "name": "stdout",
     "output_type": "stream",
     "text": [
      "Done\n"
     ]
    }
   ],
   "source": [
    "def unlog(x, pos):\n",
    "    v = math.pow(10, x)\n",
    "    frac, whole = math.modf(v)\n",
    "    if frac > 0:\n",
    "        return '%.1f' % v\n",
    "    else:\n",
    "        return '%d' % whole\n",
    "\n",
    "logFormatter = matplotlib.ticker.FuncFormatter(unlog)\n",
    "print \"Done\""
   ]
  },
  {
   "cell_type": "markdown",
   "metadata": {},
   "source": [
    "## Query templates for the plots below"
   ]
  },
  {
   "cell_type": "code",
   "execution_count": 10,
   "metadata": {
    "scrolled": true
   },
   "outputs": [
    {
     "name": "stdout",
     "output_type": "stream",
     "text": [
      "Done\n"
     ]
    }
   ],
   "source": [
    "# All of these queries yield timeseries of multidimensional histograms of 'value'\n",
    "\n",
    "# Query the list of beacons\n",
    "BeaconQ =\"\"\"\n",
    "SELECT\n",
    "  clientIP {beacon_fields}\n",
    "FROM\n",
    "  `{dataset_id}.master_annotations`\n",
    "WHERE\n",
    "  clientIP NOT IN (\n",
    "    '45.56.98.222',\n",
    "    '64.9.225.99',\n",
    "    '64.9.225.190' ) # exclude eb, etc\n",
    "    {beacon_where}\n",
    "\"\"\"\n",
    "\n",
    "# Query relevant fields of the beacons of interest\n",
    "# This yields one row per test\n",
    "# with download rate (Mb/s) in column 'value'\n",
    "DownloadQ=\"\"\"\n",
    "SELECT\n",
    "  partition_date,\n",
    "  web100_log_entry.connection_spec.remote_ip AS clientIP,\n",
    "  connection_spec.data_direction AS direction,\n",
    "  web100_log_entry.connection_spec.local_ip AS local_ip,\n",
    "  IFNULL(SUBSTR(connection_spec.server_hostname, -25, 5),\n",
    "         \"UNK\") AS server_site,\n",
    "  IFNULL(SUBSTR(connection_spec.server_hostname, -25, 3),\n",
    "         \"UNK\") AS server_metro,\n",
    "  web100_log_entry.log_time AS test_time,\n",
    "  web100_log_entry.snap.duration AS duration,\n",
    "  web100_log_entry.snap.HCDataOctetsOut AS bytes_transfered,\n",
    "  {more_data}\n",
    "  SAFE_DIVIDE(web100_log_entry.snap.HCDataOctetsOut, web100_log_entry.snap.duration) * 8 AS value\n",
    "FROM\n",
    "  `measurement-lab.release.ndt_all`\n",
    "WHERE\n",
    "  connection_spec.data_direction = 1\n",
    "  AND web100_log_entry.snap.duration > 10000\n",
    "  AND web100_log_entry.snap.HCDataOctetsOut > 0\n",
    "  AND web100_log_entry.snap.HCDataOctetsOut < 1625000000\n",
    "  {data_where}\n",
    "  AND partition_date <= '{enddate}' \n",
    "\"\"\"\n",
    "\n",
    "# Query relevant fields of the beacons of interest\n",
    "# This yields one row per test\n",
    "# with upload rate (Mb/s) in column 'value'\n",
    "UploadQ=\"\"\"\n",
    "SELECT\n",
    "  partition_date,\n",
    "  web100_log_entry.connection_spec.remote_ip AS clientIP,\n",
    "  connection_spec.data_direction AS direction,\n",
    "  web100_log_entry.connection_spec.local_ip AS local_ip,\n",
    "  IFNULL(SUBSTR(connection_spec.server_hostname, -25, 5),\n",
    "         \"UNK\") AS server_site,\n",
    "  IFNULL(SUBSTR(connection_spec.server_hostname, -25, 3),\n",
    "         \"UNK\") AS server_metro,\n",
    "  web100_log_entry.log_time AS test_time,\n",
    "  web100_log_entry.snap.duration AS duration,\n",
    "  web100_log_entry.snap.HCDataOctetsIn AS bytes_transfered,\n",
    "  {more_data}\n",
    "  SAFE_DIVIDE(web100_log_entry.snap.HCDataOctetsIn, web100_log_entry.snap.duration) * 8 AS value\n",
    "FROM\n",
    "  `measurement-lab.release.ndt_all`\n",
    "WHERE\n",
    "  connection_spec.data_direction = 0\n",
    "  AND web100_log_entry.snap.duration > 10000\n",
    "  AND web100_log_entry.snap.HCDataOctetsIn > 0\n",
    "  AND web100_log_entry.snap.HCDataOctetsIn < 1625000000\n",
    "  {data_where}\n",
    "  AND partition_date <= '{enddate}' \n",
    "\"\"\"\n",
    "\n",
    "# Query relevant fields of the beacons of interest\n",
    "# This yields one row per test\n",
    "# with RTT in column 'value'\n",
    "RTTQ=\"\"\"\n",
    "SELECT\n",
    "  partition_date,\n",
    "  web100_log_entry.connection_spec.remote_ip AS clientIP,\n",
    "  connection_spec.data_direction AS direction,\n",
    "  web100_log_entry.connection_spec.local_ip AS local_ip,\n",
    "  IFNULL(SUBSTR(connection_spec.server_hostname, -25, 5),\n",
    "         \"UNK\") AS server_site,\n",
    "  IFNULL(SUBSTR(connection_spec.server_hostname, -25, 3),\n",
    "         \"UNK\") AS server_metro,\n",
    "  web100_log_entry.log_time AS test_time,\n",
    "  web100_log_entry.snap.duration AS duration,\n",
    "  web100_log_entry.snap.HCDataOctetsOut AS bytes_transfered, \n",
    "  SAFE_DIVIDE(web100_log_entry.snap.SumRTT, web100_log_entry.snap.CountRTT) AS value\n",
    "FROM\n",
    "  `measurement-lab.release.ndt_all`\n",
    "WHERE\n",
    "  connection_spec.data_direction = 1\n",
    "  AND web100_log_entry.snap.duration > 10000\n",
    "  AND web100_log_entry.snap.HCDataOctetsOut > 0\n",
    "  AND web100_log_entry.snap.HCDataOctetsOut < 1625000000\n",
    "  {data_where}\n",
    "  AND partition_date <= '{enddate}' \n",
    "\"\"\"\n",
    "\n",
    "# Query relevant fields of the beacons of interest\n",
    "# This yields one row per test\n",
    "# with MinRTT in column 'value'\n",
    "MinRTTQ=\"\"\"\n",
    "SELECT\n",
    "  partition_date,\n",
    "  web100_log_entry.connection_spec.remote_ip AS clientIP,\n",
    "  connection_spec.data_direction AS direction,\n",
    "  web100_log_entry.connection_spec.local_ip AS local_ip,\n",
    "  IFNULL(SUBSTR(connection_spec.server_hostname, -25, 5),\n",
    "         \"UNK\") AS server_site,\n",
    "  IFNULL(SUBSTR(connection_spec.server_hostname, -25, 3),\n",
    "         \"UNK\") AS server_metro,\n",
    "  web100_log_entry.log_time AS test_time,\n",
    "  web100_log_entry.snap.duration AS duration,\n",
    "  web100_log_entry.snap.HCDataOctetsOut AS bytes_transfered, \n",
    "  web100_log_entry.snap.MinRTT AS value\n",
    "FROM\n",
    "  `measurement-lab.release.ndt_all`\n",
    "WHERE\n",
    "  connection_spec.data_direction = 1\n",
    "  AND web100_log_entry.snap.duration > 10000\n",
    "  AND web100_log_entry.snap.HCDataOctetsOut > 0\n",
    "  AND web100_log_entry.snap.HCDataOctetsOut < 1625000000\n",
    "  {data_where}\n",
    "  AND partition_date <= '{enddate}' \n",
    "\"\"\"\n",
    "\n",
    "# Joinclause\n",
    "joinQ = \"\"\"\n",
    "    SELECT *\n",
    "    FROM ( {data} )\n",
    "    INNER JOIN ( {beacons} )\n",
    "    USING ( clientIP )\n",
    "\"\"\"\n",
    "\n",
    "# Aggregate test statistics by partition_date and server_site\n",
    "mainQ=\"\"\"\n",
    "#standardSQL\n",
    "SELECT\n",
    "  UNIX_DATE(partition_date) * 86400 AS partition_time,\n",
    "  partition_date,\n",
    "  server_site,\n",
    "  ANY_VALUE(server_metro) AS server_metro,\n",
    "  COUNTIF(value < 1.0) AS LT001,\n",
    "  COUNTIF(value < 2.0) AS LT002,\n",
    "  COUNTIF(value < 4.0) AS LT004,\n",
    "  COUNTIF(value < 8.0) AS LT008,\n",
    "  COUNTIF(value < 16.0) AS LT016,\n",
    "  COUNTIF(value < 32.0) AS LT032,\n",
    "  COUNTIF(value < 64.0) AS LT064,\n",
    "  COUNTIF(value < 128.0) AS LT128,\n",
    "  COUNTIF(value < 256.0) AS LT256,\n",
    "  COUNTIF(value < 512.0) AS LT512,\n",
    "  COUNT(*) AS count\n",
    "FROM ( {joinclause} )\n",
    "GROUP BY\n",
    "  partition_date,\n",
    "  server_site\n",
    "ORDER BY\n",
    "  partition_date\n",
    "\"\"\"\n",
    "\n",
    "global EndDate # pervent irrelevant changes\n",
    "# Default values for optional parameters\n",
    "DefaultArgs = {\n",
    "    'beacons':BeaconQ,\n",
    "    'beacon_fields':'',\n",
    "    'beacon_where':'',\n",
    "    'data':DownloadQ,\n",
    "    'more_data':'',\n",
    "    'data_where':'',\n",
    "    'enddate':EndDate,\n",
    "    'joinclause':joinQ,\n",
    "    'dataset_id':dataset_id\n",
    "}\n",
    "\n",
    "# Useful debugging queries\n",
    "CountQ=\"\"\"\n",
    "#standardSQL\n",
    "SELECT\n",
    "    count(*) AS count\n",
    "FROM ( {counted} )\n",
    "\"\"\"\n",
    "\n",
    "LimitQ=\"\"\"\n",
    "#standardSQL\n",
    "SELECT\n",
    "    *\n",
    "FROM ( {counted} ) LIMIT 10\n",
    "\"\"\"\n",
    "\n",
    "print \"Done\""
   ]
  },
  {
   "cell_type": "code",
   "execution_count": 11,
   "metadata": {},
   "outputs": [
    {
     "name": "stdout",
     "output_type": "stream",
     "text": [
      "Done\n"
     ]
    }
   ],
   "source": [
    "# \n",
    "\n",
    "# beacon slectors\n",
    "first1000beacons=\"\"\"\n",
    "  ORDER BY series_start ASC LIMIT 1000\n",
    "\"\"\"\n",
    "\n",
    "greedybeacons=\"\"\"\n",
    "  ORDER BY series_download_bytes DESC LIMIT 100\n",
    "\"\"\"\n",
    "\n",
    "longestbeacons=\"\"\"\n",
    "    ORDER BY series_elapsed_days DESC LIMIT 100\n",
    "\"\"\"\n",
    "\n",
    "selectedBeaconQ =\"\"\"\n",
    "SELECT\n",
    "  clientIP {beacon_fields}\n",
    "FROM\n",
    "  `{dataset_id}.master_annotations`\n",
    "WHERE\n",
    "  clientIP IN ( {roguesgallery} )\n",
    "\"\"\"\n",
    "\n",
    "beacon_fields=\", series_start, series_start_asc, series_count, series_download_bytes, series_elapsed_days\"\n",
    "\n",
    "seriesQ=\"\"\"\n",
    "SELECT\n",
    "  UNIX_DATE(partition_date) * 86400 AS partition_time,\n",
    "  partition_date,\n",
    "  server_site,\n",
    "  server_metro,\n",
    "  clientIP,\n",
    "  test_time,\n",
    "  duration,\n",
    "  bytes_transfered,\n",
    "  value AS rate\n",
    "  {beacon_fields}\n",
    "FROM ( {joinclause} )\n",
    "ORDER BY test_time ASC\n",
    "\"\"\"\n",
    "print \"Done\""
   ]
  },
  {
   "cell_type": "code",
   "execution_count": 12,
   "metadata": {},
   "outputs": [
    {
     "name": "stdout",
     "output_type": "stream",
     "text": [
      "     count\n",
      "0  1555329\n"
     ]
    }
   ],
   "source": [
    "# Confirm that BQ credentials are working\n",
    "# Count Master Beacons, Should be 1.55M\n",
    "if True:\n",
    "        print run_query(CountQ, counted=BeaconQ, timeindex=None)"
   ]
  },
  {
   "cell_type": "markdown",
   "metadata": {},
   "source": [
    "# Default beacon timeseries plotter"
   ]
  },
  {
   "cell_type": "code",
   "execution_count": 13,
   "metadata": {},
   "outputs": [
    {
     "name": "stdout",
     "output_type": "stream",
     "text": [
      "Done\n"
     ]
    }
   ],
   "source": [
    "# Base series plotting code\n",
    "def new_plot_beacon_rates(pdata, ofile=None, title=None, ztime=None, xlim=None, figsize=(16, 20)):\n",
    "    \n",
    "    fig, axes = plt.subplots(nrows=1, ncols=1, sharex=True, figsize=figsize)\n",
    "   \n",
    "    ax = axes # was for ax in axes:\n",
    "\n",
    "    # make it pretty\n",
    "    ax.xaxis.set_major_locator(matplotlib.dates.YearLocator())\n",
    "    ax.xaxis.set_minor_locator(matplotlib.dates.MonthLocator())\n",
    "    if ofile:\n",
    "        ax.xaxis.set_major_formatter(matplotlib.dates.DateFormatter('%Y'))\n",
    "        ax.xaxis.set_minor_formatter(matplotlib.dates.DateFormatter(''))\n",
    "    else:\n",
    "        ax.xaxis.set_major_formatter(matplotlib.dates.DateFormatter('%Y   '))\n",
    "        #  ax.xaxis.set_major_formatter(matplotlib.dates.DateFormatter('%Y-%m'))\n",
    "        ax.tick_params(axis='x', labelrotation=90)\n",
    "        ax.xaxis.set_minor_formatter(matplotlib.dates.DateFormatter('%m'))\n",
    "        \n",
    "    if xlim is not None:\n",
    "        ax.set_xlim(xlim)\n",
    "    # print list(pdata), list(pdata['test_time'])\n",
    "    rate = pdata['rate']\n",
    "    if ztime:\n",
    "        hour = (pdata['test_time'] % 86400) / 3600.0\n",
    "        ax.plot(rate[hour > ztime], marker='x', linestyle='None', label='')\n",
    "        ax.plot(rate[hour < ztime], marker='+', linestyle='None', label='')\n",
    "    else:\n",
    "        ax.plot(rate, marker='.', linestyle='None', label='')\n",
    "\n",
    "    # if\n",
    "    if title and not ofile:\n",
    "        fig.suptitle(title, y='0.97', fontsize=14)\n",
    "    if ofile:\n",
    "        fig.savefig(ofile, dpi=100)\n",
    "    plt.show()\n",
    "    # plt.close\n",
    "# tester needed\n",
    "print 'Done'"
   ]
  },
  {
   "cell_type": "markdown",
   "metadata": {},
   "source": [
    "# Search for interesting  beacons\n",
    "(High rate, frequent or early tests)."
   ]
  },
  {
   "cell_type": "code",
   "execution_count": 14,
   "metadata": {},
   "outputs": [
    {
     "name": "stdout",
     "output_type": "stream",
     "text": [
      "                     bytes_transfered      clientIP  duration partition_date  \\\n",
      "test_time                                                                      \n",
      "2009-08-23 08:16:53           4530964  77.48.106.46  10062838     2009-08-23   \n",
      "2009-09-23 15:26:11            599824  77.48.106.46  10201627     2009-09-23   \n",
      "2009-11-04 16:18:45           5889884  77.48.106.46  10035652     2009-11-04   \n",
      "\n",
      "                     partition_time      rate  series_count  \\\n",
      "test_time                                                     \n",
      "2009-08-23 08:16:53      1250985600  3.602136         10918   \n",
      "2009-09-23 15:26:11      1253664000  0.470375         10918   \n",
      "2009-11-04 16:18:45      1257292800  4.695168         10918   \n",
      "\n",
      "                     series_download_bytes  series_elapsed_days  series_start  \\\n",
      "test_time                                                                       \n",
      "2009-08-23 08:16:53         51078764874206          2340.521991    1251015399   \n",
      "2009-09-23 15:26:11         51078764874206          2340.521991    1251015399   \n",
      "2009-11-04 16:18:45         51078764874206          2340.521991    1251015399   \n",
      "\n",
      "                             series_start_asc server_metro server_site  \\\n",
      "test_time                                                                \n",
      "2009-08-23 08:16:53 2009-08-23 08:16:39+00:00          atl       atl01   \n",
      "2009-09-23 15:26:11 2009-08-23 08:16:39+00:00          par       par01   \n",
      "2009-11-04 16:18:45 2009-08-23 08:16:39+00:00          par       par01   \n",
      "\n",
      "                      test_time  \n",
      "test_time                        \n",
      "2009-08-23 08:16:53  1251015413  \n",
      "2009-09-23 15:26:11  1253719571  \n",
      "2009-11-04 16:18:45  1257351525  \n",
      "Query Done\n"
     ]
    }
   ],
   "source": [
    "# Query and Display the 100 greedyest beacons\n",
    "# NB: Later logic to exclude beacons with excessive tests per day implicitly excludes most of these too\n",
    "if DoQueries:\n",
    "    GreedyBeacons = run_query(seriesQ,\n",
    "                             beacon_fields=beacon_fields, beacon_where=greedybeacons)\n",
    "    GreedyBeacons.index=pd.DatetimeIndex(GreedyBeacons['test_time']*1000000000)\n",
    "    print GreedyBeacons[0:3]\n",
    "    print 'Query Done'"
   ]
  },
  {
   "cell_type": "markdown",
   "metadata": {},
   "source": [
    "# Time series of individual beacons"
   ]
  },
  {
   "cell_type": "code",
   "execution_count": 15,
   "metadata": {},
   "outputs": [
    {
     "name": "stdout",
     "output_type": "stream",
     "text": [
      "Done\n"
     ]
    },
    {
     "data": {
      "image/png": "[encoded data removed]",
      "text/plain": [
       "<matplotlib.figure.Figure at 0x7f610f8e3cd0>"
      ]
     },
     "metadata": {},
     "output_type": "display_data"
    }
   ],
   "source": [
    "# Detailed plot of manually slected beacons\n",
    "# Note that thispPredates new master beacons, and many are excluded now\n",
    "roguesgallery = [\n",
    " '144.130.155.1', # Greedy 23 - Strong ~2 MB/s Max + outliers UP\n",
    " '163.7.137.201', # Grenew_plot_beacon_ratesedy 25  ~ 850 M/b max but only 2 days\n",
    " '163.7.137.243', # Greedy 26 -  850 M/b max, 5 days\n",
    " '195.143.162.141', # Greedy 35\t- Varying flattop (w/ outliers)\n",
    " '204.246.122.65', # Greedy 42 - Varying flattop (w/ outliers) ~ 3 years\n",
    " '208.77.130.154', # Greedy 48 - stripes\n",
    " '23.228.128.99', # Greedy 52 - stripes\n",
    " '45.79.140.244', # Greedy 56 - 850 for ~ 1 day, then 400 Mb/s\n",
    " '45.79.155.9', # Greedy 57 - Man test at low rates, two spikes one to 800+\n",
    " '77.95.64.13', # Greedy 90 - several days at ~700 Mb/s, downward shift\n",
    " '121.54.32.106', # Longest 7 (and many like it) thin viel w/ gaps July 2010, 2012 2016-2017, upward slope\n",
    " '217.72.93.226', # Longest 64 - long staircase\n",
    " '84.1.111.194', # Longest 93 - long staircase\n",
    " '93.99.142.1', # Longest 99 - 3 rate steps but decreasing test volumes\n",
    " '121.54.32.102', # First 42 - Another BT?\n",
    " # (Through)\n",
    " '121.54.32.108', # First 46\n",
    " '84.235.73.18', # First 819 - NAT!  Very uniform noisy mostly under 2 MB/s\n",
    " '84.235.73.19', # First 820 - NAT!  Very uniform noisy mostly under 2 MB/s\n",
    " '84.235.73.20', # First 821 - NAT!  Very uniform noisy mostly under 2 MB/s\n",
    " '84.235.73.21', # First 822 - NAT!  Very uniformflat and noisy mostly under 2 MB/s\n",
    " '84.235.75.18', # First 823 - NAT!  Very uniform noisy mostly under 2 MB/s\n",
    " '84.235.75.21', # First 824 - NAT!  Very uniform noisy mostly under 2 MB/s\n",
    "]\n",
    "\n",
    "if True:\n",
    "    CuratedBeacons = run_query(seriesQ, beacons=selectedBeaconQ, timeindex=None,\n",
    "                             beacon_fields=beacon_fields, roguesgallery=str(roguesgallery)[1:-1])\n",
    "    CuratedBeacons.index = pd.DatetimeIndex(CuratedBeacons['test_time']*1000000000)\n",
    "print 'Done'\n",
    "\n",
    "# print CuratedBeacons\n",
    "if True:\n",
    "    tmp = CuratedBeacons[CuratedBeacons['clientIP'] == '84.235.73.20']\n",
    "    new_plot_beacon_rates(tmp, title='Test of 84.235.73.20', figsize=(16, 3))"
   ]
  },
  {
   "cell_type": "code",
   "execution_count": 16,
   "metadata": {},
   "outputs": [
    {
     "name": "stdout",
     "output_type": "stream",
     "text": [
      "Using matplotlib backend: Qt5Agg\n"
     ]
    },
    {
     "data": {
      "image/png": "[encoded data removed]",
      "text/plain": [
       "<matplotlib.figure.Figure at 0x7f610f8e3510>"
      ]
     },
     "metadata": {},
     "output_type": "display_data"
    }
   ],
   "source": [
    "# Paper Figures\n",
    "\n",
    "PaperDir = '../paper/'\n",
    "PaperDir = './'\n",
    "DoPaper = False\n",
    "if True:\n",
    "    ofile = None\n",
    "    if DoPaper:\n",
    "        ofile = PaperDir+'Selected.png'\n",
    "        print 'Formating to:', ofile\n",
    "    %matplotlib\n",
    "    tmp = pd.DataFrame(CuratedBeacons, copy=True)\n",
    "    # pdata = tmp.pivot_table(index=tmp.index, columns='clientIP', values='rate')\n",
    "    new_plot_beacon_rates(tmp[tmp['clientIP']=='217.72.93.226'],\n",
    "                  ofile=ofile, figsize=(6, 2))"
   ]
  },
  {
   "cell_type": "code",
   "execution_count": null,
   "metadata": {},
   "outputs": [],
   "source": []
  }
 ],
 "metadata": {
  "kernelspec": {
   "display_name": "Python 2",
   "language": "python",
   "name": "python2"
  },
  "language_info": {
   "codemirror_mode": {
    "name": "ipython",
    "version": 2
   },
   "file_extension": ".py",
   "mimetype": "text/x-python",
   "name": "python",
   "nbconvert_exporter": "python",
   "pygments_lexer": "ipython2",
   "version": "2.7.14"
  }
 },
 "nbformat": 4,
 "nbformat_minor": 2
}
