{
 "cells": [
  {
   "cell_type": "markdown",
   "metadata": {},
   "source": [
    "# Show graphs of Beacon Populations\n",
    "\n",
    "See the README.md for setup.\n",
    "\n",
    "NB: This notebook is unreliable unless cells are run one at a time."
   ]
  },
  {
   "cell_type": "code",
   "execution_count": 1,
   "metadata": {},
   "outputs": [
    {
     "name": "stdout",
     "output_type": "stream",
     "text": [
      "Done\n"
     ]
    }
   ],
   "source": [
    "import os\n",
    "import math\n",
    "import numpy as np\n",
    "import pandas as pd\n",
    "import matplotlib.dates as dates\n",
    "import matplotlib.pyplot as plt\n",
    "import matplotlib.ticker\n",
    "import datetime\n",
    "import collections\n",
    "import pickle\n",
    "import time\n",
    "# Depends on: pip install --upgrade google-cloud-bigquery\n",
    "from google.cloud import bigquery\n",
    "\n",
    "# Some matplotlib features are version dependent.\n",
    "assert(matplotlib.__version__ >= '2.1.2')\n",
    "print \"Done\""
   ]
  },
  {
   "cell_type": "markdown",
   "metadata": {},
   "source": [
    "# Global flags\n",
    "\n",
    "Invoke cell individually or reorder them to change defaults"
   ]
  },
  {
   "cell_type": "code",
   "execution_count": 2,
   "metadata": {},
   "outputs": [],
   "source": [
    "EndDate = '2018-05-13'\n",
    "LastNew = '2017-05-13'  # Beacons that start after this date are not included\n",
    "project = 'mlab-sandbox'\n",
    "dataset_id = 'mattmathis'"
   ]
  },
  {
   "cell_type": "code",
   "execution_count": 3,
   "metadata": {},
   "outputs": [],
   "source": [
    "# Skip slow/expensive queries\n",
    "DoQueries=False\n",
    "# Force queries\n",
    "DoQueries=True\n",
    "# Enable interactive figures that pan and zoom\n",
    "interactive = True\n",
    "# Enables figures to load inline in the browser and saved (github etc).\n",
    "interactive = False\n",
    "# Disable plots for the paper\n",
    "DoPaper = False"
   ]
  },
  {
   "cell_type": "code",
   "execution_count": 4,
   "metadata": {},
   "outputs": [
    {
     "name": "stdout",
     "output_type": "stream",
     "text": [
      "default inline\n"
     ]
    }
   ],
   "source": [
    "def setupmatplotlib(force=None):\n",
    "    global interactive\n",
    "    if force == 'inline':\n",
    "        %matplotlib inline\n",
    "        return\n",
    "    elif force == 'interactive':\n",
    "        %matplotlib\n",
    "        return\n",
    "    elif force is not None:\n",
    "        print 'Unknown option, using default'\n",
    "    if interactive:\n",
    "        print 'default interactive'\n",
    "        %matplotlib\n",
    "        return\n",
    "    else:\n",
    "        print 'default inline'\n",
    "        %matplotlib inline\n",
    "        return\n",
    "setupmatplotlib()"
   ]
  },
  {
   "cell_type": "code",
   "execution_count": 5,
   "metadata": {},
   "outputs": [
    {
     "name": "stdout",
     "output_type": "stream",
     "text": [
      "Done\n"
     ]
    }
   ],
   "source": [
    "# BigQuery interface\n",
    "def expand_query(query, **kwargs):\n",
    "    \"\"\"expand_query: expands nested {parameter} substitutions.\n",
    "    Stashes forensic output in globals.\n",
    "    \"\"\"\n",
    "    global DebugQuery # For pasting into BQ, after the fact\n",
    "    global NumberedQuery # For grocking BQ error line numbers.\n",
    "    global DefaultArgs # To ignore some \n",
    "\n",
    "    # Only allow argument substitution 4 levels deep, because\n",
    "    # accidental infinite recursion risks crashing the notebook.\n",
    "    args = DefaultArgs.copy()\n",
    "    args.update(kwargs)\n",
    "    query=query.format(**args)\n",
    "    query=query.format(**args)\n",
    "    query=query.format(**args)\n",
    "    query=query.format(**args)\n",
    "    if '{' in query:\n",
    "        raise \"Unexpanded substitutions\"\n",
    "    \n",
    "    # Leave crumbs incase we need a postmortem\n",
    "    DebugQuery = query\n",
    "    NumberedQuery = \"\"\n",
    "    for i, l in enumerate(query.split('\\n')):\n",
    "          NumberedQuery += \"%3d %s\\n\"%(i, l)\n",
    "\n",
    "    return query\n",
    "\n",
    "def run_query(query, project=project, otherindex=None, timeindex='partition_date', **kwargs):\n",
    "    \"\"\" run_query\n",
    "        Accepts nested {parameter} substitutions.\n",
    "        \n",
    "        Stashes forensic output in globals.\n",
    "    \"\"\"\n",
    "    global NumberedQuery\n",
    "    query=expand_query(query,  **kwargs)\n",
    "\n",
    "    # do the work\n",
    "    client = bigquery.Client(project=project)\n",
    "    job = client.query(query)  # All errors are delayed\n",
    "\n",
    "    # Marshal the results, catching async errors\n",
    "    try:\n",
    "        results = collections.defaultdict(list)\n",
    "        for row in job.result(timeout=300):\n",
    "            for key in row.keys():\n",
    "                results[key].append(row.get(key)) \n",
    "    except:\n",
    "        print NumberedQuery\n",
    "        raise\n",
    "\n",
    "    if otherindex:\n",
    "        return pd.DataFrame(results, index=results[timeined])\n",
    "    if timeindex:\n",
    "        return pd.DataFrame(results, index=pd.DatetimeIndex(results[timeindex]))\n",
    "    # set timeindex=None to force a raw DataFrame\n",
    "    return pd.DataFrame(results)\n",
    "\n",
    "def write_query_table(query, otable,\n",
    "                      project=project,\n",
    "                      dataset_id=dataset_id,\n",
    "                      **kwargs):\n",
    "    \"\"\" write_query_table\n",
    "        Accepts nested {parameter} substitutions.\n",
    "        \n",
    "        Stashes forensic output in globals.\n",
    "    \"\"\"\n",
    "    global NumberedQuery\n",
    "    query=expand_query(query,  **kwargs)\n",
    "\n",
    "    # do the work\n",
    "    client = bigquery.Client(project=project)\n",
    "    job_config = bigquery.QueryJobConfig()\n",
    "    table_ref = client.dataset(dataset_id).table(otable)\n",
    "    job_config.destination = table_ref\n",
    "    job_config.write_disposition = bigquery.WriteDisposition.WRITE_TRUNCATE\n",
    "    job = client.query(query, location='US', job_config=job_config)\n",
    "\n",
    "    # Marshal the results, catching async errors\n",
    "    try:\n",
    "        res = job.result()  # Get the first row to make sure it starts\n",
    "        while not job.done():\n",
    "            print 'tick'\n",
    "            time.sleep(5)\n",
    "        assert job.state == 'DONE'\n",
    "    except:\n",
    "        print \"Query Errored\"\n",
    "        print NumberedQuery\n",
    "        raise\n",
    "    print \"Query completed\"\n",
    "    return\n",
    "\n",
    "# test code\n",
    "if False:\n",
    "    testQ=\"\"\"\n",
    "    SELECT *\n",
    "    FROM `{dateset_id}.master_annotations`\n",
    "    \"\"\"\n",
    "    write_query_table(testQ, otable='test_results2')\n",
    "\n",
    "print \"Done\""
   ]
  },
  {
   "cell_type": "code",
   "execution_count": 6,
   "metadata": {},
   "outputs": [
    {
     "name": "stdout",
     "output_type": "stream",
     "text": [
      "Done\n"
     ]
    }
   ],
   "source": [
    "# Query the list of beacons\n",
    "BeaconQ =\"\"\"\n",
    "SELECT\n",
    "  {beacon_fields}\n",
    "FROM\n",
    "  `{dataset_id}.master_annotations`\n",
    "WHERE\n",
    "  clientIP NOT IN (\n",
    "    '45.56.98.222',\n",
    "    '64.9.225.99',\n",
    "    '64.9.225.190' ) # exclude eb, etc\n",
    "    {beacon_where}\n",
    "\"\"\"\n",
    "DefaultArgs = {\n",
    "    'beacon_where':'',\n",
    "    'beacon_fields':'clientIP',\n",
    "    'dataset_id':dataset_id \n",
    "}\n",
    "print \"Done\""
   ]
  },
  {
   "cell_type": "code",
   "execution_count": 7,
   "metadata": {},
   "outputs": [],
   "source": [
    "# Useful for exploring the data\n",
    "if False:\n",
    "    %time all_beacons = run_query(BeaconQ, timeindex=None)"
   ]
  },
  {
   "cell_type": "code",
   "execution_count": 8,
   "metadata": {},
   "outputs": [
    {
     "name": "stdout",
     "output_type": "stream",
     "text": [
      "CPU times: user 4min 52s, sys: 8.8 s, total: 5min 1s\n",
      "Wall time: 10min 19s\n",
      "Done\n"
     ]
    }
   ],
   "source": [
    "# Fetch master beacons into a local DataFrame\n",
    "# Note that this is 1.5M rows by 26 columns, and may take a long time on some networks\n",
    "if True:\n",
    "    %time all_beacon_data = run_query(BeaconQ, beacon_fields='*', timeindex=None)\n",
    "print \"Done\""
   ]
  },
  {
   "cell_type": "code",
   "execution_count": 9,
   "metadata": {},
   "outputs": [
    {
     "name": "stdout",
     "output_type": "stream",
     "text": [
      "(1555329, 26)\n",
      "Total memory (MB): 774\n",
      "Index                              72\n",
      "clientIP                    174392904\n",
      "dailymax                     12442632\n",
      "series_average_download      12442632\n",
      "series_average_upload        12442632\n",
      "series_count                 12442632\n",
      "series_download_bytes        12442632\n",
      "series_download_duration     12442632\n",
      "series_downloads             12442632\n",
      "series_elapsed_days          12442632\n",
      "series_end                   12442632\n",
      "series_end_asc               12442632\n",
      "series_interval_hours        12442632\n",
      "series_metro_details        301560528\n",
      "series_num_BTWebClient       12442632\n",
      "series_num_Chrome            12442632\n",
      "series_num_Firefox           12442632\n",
      "series_num_IE                12442632\n",
      "series_num_cli               12442632\n",
      "series_num_confine           12442632\n",
      "series_num_metros            12442632\n",
      "series_num_web100clt         12442632\n",
      "series_start                 12442632\n",
      "series_start_asc             12442632\n",
      "series_upload_bytes          12442632\n",
      "series_upload_duration       12442632\n",
      "series_uploads               12442632\n",
      "dtype: int64\n"
     ]
    }
   ],
   "source": [
    "print all_beacon_data.shape\n",
    "memory = all_beacon_data.memory_usage(deep=True)\n",
    "print 'Total memory (MB):', memory.sum()/1000000\n",
    "print memory\n"
   ]
  },
  {
   "cell_type": "code",
   "execution_count": 10,
   "metadata": {},
   "outputs": [
    {
     "name": "stdout",
     "output_type": "stream",
     "text": [
      "Done\n"
     ]
    },
    {
     "data": {
      "image/png": "[encoded data removed]",
      "text/plain": [
       "<matplotlib.figure.Figure at 0x7fd881e03f10>"
      ]
     },
     "metadata": {},
     "output_type": "display_data"
    }
   ],
   "source": [
    "# Non interactive plotting for the paper.\n",
    "# This version places more attention on the art work\n",
    "def paper_beacon_pop(data, ofile=None, title=None, xlim=None, figsize=(16, 6)):\n",
    "\n",
    "    fig, axes = plt.subplots(nrows=2, ncols=1, squeeze=False, sharex=True, figsize=figsize)\n",
    "   \n",
    "    ax0 = axes[0][0]\n",
    "    ax1 = ax0\n",
    "    ax2 = axes[1][0]\n",
    "    bins = 436  # Weeks between 2009-01-01 and 2017-05-13\n",
    "    \n",
    "    ax0.xaxis.set_major_locator(matplotlib.dates.YearLocator())\n",
    "    ax0.xaxis.set_major_formatter(matplotlib.dates.DateFormatter('%Y'))\n",
    "    ax0.xaxis.set_minor_locator(matplotlib.dates.MonthLocator())\n",
    "    ax0.xaxis.set_minor_formatter(matplotlib.dates.DateFormatter(''))\n",
    "       \n",
    "    \n",
    "\n",
    "    starts = dates.epoch2num(data['series_start'])\n",
    "    ends = dates.epoch2num(data['series_end'])   \n",
    "    plusOne = [1 for i in range(len(starts))]\n",
    "    minusOne = [-1 for i in range(len(ends))]\n",
    "    times = np.append(starts, ends)\n",
    "    weights = np.append(plusOne,minusOne)\n",
    "\n",
    "    ax0.set_title('Beacon Arrivals, Departures and net Arrival Rate')\n",
    "    ax0.hist(starts, cumulative=False, normed=False, bins=bins)\n",
    "    ax0.hist(ends, weights=minusOne, cumulative=False, normed=False, bins=bins)\n",
    "    ax0.set_ylim(-10000, 25000)\n",
    "\n",
    "#    ax1.set_title('Net Arrivals and Departures')\n",
    "    ax1.hist(times, weights=weights, cumulative=False, bins=bins)\n",
    "#    ax1.set_ylim(0, 35000)\n",
    "\n",
    "    ax2.set_title('Beacon Population')\n",
    "    ax2.hist(times, weights=plusOne+minusOne, cumulative=True, bins=bins)\n",
    "\n",
    "    #    ax0.legend()\n",
    "    \n",
    "    if xlim is not None:\n",
    "        ax0.set_xlim(xlim)\n",
    "    if title and not ofile:\n",
    "        fig.suptitle(title, y='0.97', fontsize=14)\n",
    "    if ofile:\n",
    "        fig.savefig(ofile, dpi=100)\n",
    "    else:\n",
    "        plt.show()\n",
    "    plt.close()\n",
    "print 'Done'\n",
    "if True:\n",
    "    paper_beacon_pop(all_beacon_data, xlim=pd.DatetimeIndex(['2009-01-01',LastNew]))\n",
    "\n",
    "    \n",
    "if DoPaper:\n",
    "    paper_beacon_pop(all_beacon_data, ofile='../paper/Beacons.png',figsize=(6,4),\n",
    "                     xlim=pd.DatetimeIndex(['2009-01-01',LastNew]))\n",
    "    print 'Paper Done'"
   ]
  },
  {
   "cell_type": "code",
   "execution_count": null,
   "metadata": {},
   "outputs": [],
   "source": []
  }
 ],
 "metadata": {
  "kernelspec": {
   "display_name": "Python 2",
   "language": "python",
   "name": "python2"
  },
  "language_info": {
   "codemirror_mode": {
    "name": "ipython",
    "version": 2
   },
   "file_extension": ".py",
   "mimetype": "text/x-python",
   "name": "python",
   "nbconvert_exporter": "python",
   "pygments_lexer": "ipython2",
   "version": "2.7.14"
  }
 },
 "nbformat": 4,
 "nbformat_minor": 2
}
